{
 "cells": [
  {
   "cell_type": "markdown",
   "metadata": {},
   "source": [
    "# Japan Trade Analysis & Visualization"
   ]
  },
  {
   "cell_type": "markdown",
   "metadata": {},
   "source": [
    "In this ipython notebook we will analyze Japans trading partner countries and how much trade is being conducted between Japan and these countries. This notebook could be used for international institutions who are making strategic investments in Japan, Japaneese currency Yen, soveriegn bonds of Japan or much more instruments or investments that are directly or indirectly related to the Japanese economy. "
   ]
  },
  {
   "cell_type": "markdown",
   "metadata": {},
   "source": [
    "Submitted By:Saeed Rahman\n",
    "Mail:srahman3@stevens.edu\n",
    "Date: 2/1/2017\n",
    "Data taken from:http://www.customs.go.jp/toukei/info/index_e.htm"
   ]
  },
  {
   "cell_type": "code",
   "execution_count": 3,
   "metadata": {
    "collapsed": false
   },
   "outputs": [],
   "source": [
    "import numpy as np\n",
    "import pandas as pd \n",
    "import seaborn as sns\n",
    "import matplotlib.pyplot as plt\n",
    "%matplotlib inline"
   ]
  },
  {
   "cell_type": "code",
   "execution_count": 4,
   "metadata": {
    "collapsed": false
   },
   "outputs": [],
   "source": [
    "country_eng = pd.read_csv('C:/Users/saeed/Desktop/japan trade stats/country_eng.csv')\n",
    "custom = pd.read_csv('C:/Users/saeed/Desktop/japan trade stats/custom.csv')\n",
    "exp_custom_latest_ym = pd.read_csv('C:/Users/saeed/Desktop/japan trade stats/custom_latest_ym.csv')"
   ]
  },
  {
   "cell_type": "code",
   "execution_count": 5,
   "metadata": {
    "collapsed": false
   },
   "outputs": [
    {
     "data": {
      "text/html": [
       "<div>\n",
       "<table border=\"1\" class=\"dataframe\">\n",
       "  <thead>\n",
       "    <tr style=\"text-align: right;\">\n",
       "      <th></th>\n",
       "      <th>Country</th>\n",
       "      <th>Country_name</th>\n",
       "      <th>Area</th>\n",
       "    </tr>\n",
       "  </thead>\n",
       "  <tbody>\n",
       "    <tr>\n",
       "      <th>0</th>\n",
       "      <td>103</td>\n",
       "      <td>Republic_of_Korea</td>\n",
       "      <td>Asia</td>\n",
       "    </tr>\n",
       "    <tr>\n",
       "      <th>1</th>\n",
       "      <td>104</td>\n",
       "      <td>North_Korea</td>\n",
       "      <td>Asia</td>\n",
       "    </tr>\n",
       "    <tr>\n",
       "      <th>2</th>\n",
       "      <td>105</td>\n",
       "      <td>People's_Republic_of_China</td>\n",
       "      <td>Asia</td>\n",
       "    </tr>\n",
       "    <tr>\n",
       "      <th>3</th>\n",
       "      <td>106</td>\n",
       "      <td>Taiwan</td>\n",
       "      <td>Asia</td>\n",
       "    </tr>\n",
       "    <tr>\n",
       "      <th>4</th>\n",
       "      <td>107</td>\n",
       "      <td>Mongolia</td>\n",
       "      <td>Asia</td>\n",
       "    </tr>\n",
       "  </tbody>\n",
       "</table>\n",
       "</div>"
      ],
      "text/plain": [
       "   Country                Country_name  Area\n",
       "0      103           Republic_of_Korea  Asia\n",
       "1      104                 North_Korea  Asia\n",
       "2      105  People's_Republic_of_China  Asia\n",
       "3      106                      Taiwan  Asia\n",
       "4      107                    Mongolia  Asia"
      ]
     },
     "execution_count": 5,
     "metadata": {},
     "output_type": "execute_result"
    }
   ],
   "source": [
    "country_eng.head()\n",
    "#List of all countries involved in trade with Japan"
   ]
  },
  {
   "cell_type": "code",
   "execution_count": 6,
   "metadata": {
    "collapsed": false
   },
   "outputs": [
    {
     "data": {
      "text/html": [
       "<div>\n",
       "<table border=\"1\" class=\"dataframe\">\n",
       "  <thead>\n",
       "    <tr style=\"text-align: right;\">\n",
       "      <th></th>\n",
       "      <th>exp_imp</th>\n",
       "      <th>Custom</th>\n",
       "      <th>Year</th>\n",
       "      <th>month</th>\n",
       "      <th>Country</th>\n",
       "      <th>Unit1</th>\n",
       "      <th>Unit2</th>\n",
       "      <th>hs2</th>\n",
       "      <th>hs4</th>\n",
       "      <th>hs6</th>\n",
       "      <th>hs9</th>\n",
       "      <th>Q1</th>\n",
       "      <th>Q2</th>\n",
       "      <th>Value</th>\n",
       "    </tr>\n",
       "  </thead>\n",
       "  <tbody>\n",
       "    <tr>\n",
       "      <th>0</th>\n",
       "      <td>1</td>\n",
       "      <td>100</td>\n",
       "      <td>2016</td>\n",
       "      <td>1</td>\n",
       "      <td>103</td>\n",
       "      <td></td>\n",
       "      <td>KG</td>\n",
       "      <td>0</td>\n",
       "      <td>0</td>\n",
       "      <td>0</td>\n",
       "      <td>190</td>\n",
       "      <td>0</td>\n",
       "      <td>665021</td>\n",
       "      <td>2376424</td>\n",
       "    </tr>\n",
       "    <tr>\n",
       "      <th>1</th>\n",
       "      <td>1</td>\n",
       "      <td>100</td>\n",
       "      <td>2016</td>\n",
       "      <td>1</td>\n",
       "      <td>105</td>\n",
       "      <td></td>\n",
       "      <td>KG</td>\n",
       "      <td>0</td>\n",
       "      <td>0</td>\n",
       "      <td>0</td>\n",
       "      <td>190</td>\n",
       "      <td>0</td>\n",
       "      <td>1309209</td>\n",
       "      <td>5825954</td>\n",
       "    </tr>\n",
       "    <tr>\n",
       "      <th>2</th>\n",
       "      <td>1</td>\n",
       "      <td>100</td>\n",
       "      <td>2016</td>\n",
       "      <td>1</td>\n",
       "      <td>106</td>\n",
       "      <td></td>\n",
       "      <td>KG</td>\n",
       "      <td>0</td>\n",
       "      <td>0</td>\n",
       "      <td>0</td>\n",
       "      <td>190</td>\n",
       "      <td>0</td>\n",
       "      <td>432366</td>\n",
       "      <td>4783447</td>\n",
       "    </tr>\n",
       "    <tr>\n",
       "      <th>3</th>\n",
       "      <td>1</td>\n",
       "      <td>100</td>\n",
       "      <td>2016</td>\n",
       "      <td>1</td>\n",
       "      <td>107</td>\n",
       "      <td></td>\n",
       "      <td>KG</td>\n",
       "      <td>0</td>\n",
       "      <td>0</td>\n",
       "      <td>0</td>\n",
       "      <td>190</td>\n",
       "      <td>0</td>\n",
       "      <td>1</td>\n",
       "      <td>216</td>\n",
       "    </tr>\n",
       "    <tr>\n",
       "      <th>4</th>\n",
       "      <td>1</td>\n",
       "      <td>100</td>\n",
       "      <td>2016</td>\n",
       "      <td>1</td>\n",
       "      <td>108</td>\n",
       "      <td></td>\n",
       "      <td>KG</td>\n",
       "      <td>0</td>\n",
       "      <td>0</td>\n",
       "      <td>0</td>\n",
       "      <td>190</td>\n",
       "      <td>0</td>\n",
       "      <td>449242</td>\n",
       "      <td>7039583</td>\n",
       "    </tr>\n",
       "  </tbody>\n",
       "</table>\n",
       "</div>"
      ],
      "text/plain": [
       "   exp_imp  Custom  Year  month  Country Unit1 Unit2  hs2  hs4  hs6  hs9  Q1  \\\n",
       "0        1     100  2016      1      103          KG    0    0    0  190   0   \n",
       "1        1     100  2016      1      105          KG    0    0    0  190   0   \n",
       "2        1     100  2016      1      106          KG    0    0    0  190   0   \n",
       "3        1     100  2016      1      107          KG    0    0    0  190   0   \n",
       "4        1     100  2016      1      108          KG    0    0    0  190   0   \n",
       "\n",
       "        Q2    Value  \n",
       "0   665021  2376424  \n",
       "1  1309209  5825954  \n",
       "2   432366  4783447  \n",
       "3        1      216  \n",
       "4   449242  7039583  "
      ]
     },
     "execution_count": 6,
     "metadata": {},
     "output_type": "execute_result"
    }
   ],
   "source": [
    "exp_custom_latest_ym.head()\n",
    "#Trade details of all the countries with the Host "
   ]
  },
  {
   "cell_type": "code",
   "execution_count": 7,
   "metadata": {
    "collapsed": false
   },
   "outputs": [
    {
     "data": {
      "text/html": [
       "<div>\n",
       "<table border=\"1\" class=\"dataframe\">\n",
       "  <thead>\n",
       "    <tr style=\"text-align: right;\">\n",
       "      <th></th>\n",
       "      <th>Custom</th>\n",
       "      <th>d_name</th>\n",
       "    </tr>\n",
       "  </thead>\n",
       "  <tbody>\n",
       "    <tr>\n",
       "      <th>0</th>\n",
       "      <td>100</td>\n",
       "      <td>東京</td>\n",
       "    </tr>\n",
       "    <tr>\n",
       "      <th>1</th>\n",
       "      <td>103</td>\n",
       "      <td>東京国際</td>\n",
       "    </tr>\n",
       "    <tr>\n",
       "      <th>2</th>\n",
       "      <td>104</td>\n",
       "      <td>成田国際</td>\n",
       "    </tr>\n",
       "    <tr>\n",
       "      <th>3</th>\n",
       "      <td>120</td>\n",
       "      <td>新潟</td>\n",
       "    </tr>\n",
       "    <tr>\n",
       "      <th>4</th>\n",
       "      <td>122</td>\n",
       "      <td>直江津</td>\n",
       "    </tr>\n",
       "  </tbody>\n",
       "</table>\n",
       "</div>"
      ],
      "text/plain": [
       "   Custom d_name\n",
       "0     100     東京\n",
       "1     103   東京国際\n",
       "2     104   成田国際\n",
       "3     120     新潟\n",
       "4     122    直江津"
      ]
     },
     "execution_count": 7,
     "metadata": {},
     "output_type": "execute_result"
    }
   ],
   "source": [
    "custom.head()\n",
    "# The different customs offices or port of entry in Japan"
   ]
  },
  {
   "cell_type": "code",
   "execution_count": 8,
   "metadata": {
    "collapsed": false
   },
   "outputs": [
    {
     "data": {
      "text/html": [
       "<div>\n",
       "<table border=\"1\" class=\"dataframe\">\n",
       "  <thead>\n",
       "    <tr style=\"text-align: right;\">\n",
       "      <th></th>\n",
       "      <th>exp_imp</th>\n",
       "      <th>Custom</th>\n",
       "      <th>Year</th>\n",
       "      <th>month</th>\n",
       "      <th>Country</th>\n",
       "      <th>hs2</th>\n",
       "      <th>hs4</th>\n",
       "      <th>hs6</th>\n",
       "      <th>hs9</th>\n",
       "      <th>Q1</th>\n",
       "      <th>Q2</th>\n",
       "      <th>Value</th>\n",
       "    </tr>\n",
       "  </thead>\n",
       "  <tbody>\n",
       "    <tr>\n",
       "      <th>count</th>\n",
       "      <td>7525178.000000</td>\n",
       "      <td>7525178.000000</td>\n",
       "      <td>7525178.000000</td>\n",
       "      <td>7525178.000000</td>\n",
       "      <td>7525178.000000</td>\n",
       "      <td>7525178.000000</td>\n",
       "      <td>7525178.000000</td>\n",
       "      <td>7525178.000000</td>\n",
       "      <td>7.525178e+06</td>\n",
       "      <td>7.525178e+06</td>\n",
       "      <td>7.525178e+06</td>\n",
       "      <td>7.525178e+06</td>\n",
       "    </tr>\n",
       "    <tr>\n",
       "      <th>mean</th>\n",
       "      <td>1.427058</td>\n",
       "      <td>319.067371</td>\n",
       "      <td>2015.475219</td>\n",
       "      <td>6.285536</td>\n",
       "      <td>183.663100</td>\n",
       "      <td>64.355043</td>\n",
       "      <td>6453.793319</td>\n",
       "      <td>645426.209752</td>\n",
       "      <td>6.454264e+08</td>\n",
       "      <td>7.362858e+04</td>\n",
       "      <td>1.509689e+05</td>\n",
       "      <td>3.685059e+04</td>\n",
       "    </tr>\n",
       "    <tr>\n",
       "      <th>std</th>\n",
       "      <td>0.494651</td>\n",
       "      <td>186.024287</td>\n",
       "      <td>0.499386</td>\n",
       "      <td>3.319515</td>\n",
       "      <td>114.438132</td>\n",
       "      <td>25.443525</td>\n",
       "      <td>2550.905745</td>\n",
       "      <td>255093.414570</td>\n",
       "      <td>2.550934e+08</td>\n",
       "      <td>2.173945e+07</td>\n",
       "      <td>5.190437e+06</td>\n",
       "      <td>4.266283e+05</td>\n",
       "    </tr>\n",
       "    <tr>\n",
       "      <th>min</th>\n",
       "      <td>1.000000</td>\n",
       "      <td>100.000000</td>\n",
       "      <td>2015.000000</td>\n",
       "      <td>1.000000</td>\n",
       "      <td>103.000000</td>\n",
       "      <td>0.000000</td>\n",
       "      <td>0.000000</td>\n",
       "      <td>0.000000</td>\n",
       "      <td>1.100000e+01</td>\n",
       "      <td>0.000000e+00</td>\n",
       "      <td>0.000000e+00</td>\n",
       "      <td>2.010000e+02</td>\n",
       "    </tr>\n",
       "    <tr>\n",
       "      <th>25%</th>\n",
       "      <td>1.000000</td>\n",
       "      <td>104.000000</td>\n",
       "      <td>2015.000000</td>\n",
       "      <td>3.000000</td>\n",
       "      <td>106.000000</td>\n",
       "      <td>40.000000</td>\n",
       "      <td>4002.000000</td>\n",
       "      <td>400211.000000</td>\n",
       "      <td>4.002111e+08</td>\n",
       "      <td>0.000000e+00</td>\n",
       "      <td>8.600000e+01</td>\n",
       "      <td>7.330000e+02</td>\n",
       "    </tr>\n",
       "    <tr>\n",
       "      <th>50%</th>\n",
       "      <td>1.000000</td>\n",
       "      <td>300.000000</td>\n",
       "      <td>2015.000000</td>\n",
       "      <td>6.000000</td>\n",
       "      <td>118.000000</td>\n",
       "      <td>73.000000</td>\n",
       "      <td>7318.000000</td>\n",
       "      <td>731822.000000</td>\n",
       "      <td>7.318220e+08</td>\n",
       "      <td>0.000000e+00</td>\n",
       "      <td>6.870000e+02</td>\n",
       "      <td>2.623000e+03</td>\n",
       "    </tr>\n",
       "    <tr>\n",
       "      <th>75%</th>\n",
       "      <td>2.000000</td>\n",
       "      <td>500.000000</td>\n",
       "      <td>2016.000000</td>\n",
       "      <td>9.000000</td>\n",
       "      <td>220.000000</td>\n",
       "      <td>85.000000</td>\n",
       "      <td>8511.000000</td>\n",
       "      <td>851110.000000</td>\n",
       "      <td>8.511100e+08</td>\n",
       "      <td>6.000000e+00</td>\n",
       "      <td>7.068000e+03</td>\n",
       "      <td>1.107300e+04</td>\n",
       "    </tr>\n",
       "    <tr>\n",
       "      <th>max</th>\n",
       "      <td>2.000000</td>\n",
       "      <td>907.000000</td>\n",
       "      <td>2016.000000</td>\n",
       "      <td>12.000000</td>\n",
       "      <td>702.000000</td>\n",
       "      <td>97.000000</td>\n",
       "      <td>9706.000000</td>\n",
       "      <td>970600.000000</td>\n",
       "      <td>9.706000e+08</td>\n",
       "      <td>5.550000e+10</td>\n",
       "      <td>1.637796e+09</td>\n",
       "      <td>1.560166e+08</td>\n",
       "    </tr>\n",
       "  </tbody>\n",
       "</table>\n",
       "</div>"
      ],
      "text/plain": [
       "              exp_imp          Custom            Year           month  \\\n",
       "count  7525178.000000  7525178.000000  7525178.000000  7525178.000000   \n",
       "mean         1.427058      319.067371     2015.475219        6.285536   \n",
       "std          0.494651      186.024287        0.499386        3.319515   \n",
       "min          1.000000      100.000000     2015.000000        1.000000   \n",
       "25%          1.000000      104.000000     2015.000000        3.000000   \n",
       "50%          1.000000      300.000000     2015.000000        6.000000   \n",
       "75%          2.000000      500.000000     2016.000000        9.000000   \n",
       "max          2.000000      907.000000     2016.000000       12.000000   \n",
       "\n",
       "              Country             hs2             hs4             hs6  \\\n",
       "count  7525178.000000  7525178.000000  7525178.000000  7525178.000000   \n",
       "mean       183.663100       64.355043     6453.793319   645426.209752   \n",
       "std        114.438132       25.443525     2550.905745   255093.414570   \n",
       "min        103.000000        0.000000        0.000000        0.000000   \n",
       "25%        106.000000       40.000000     4002.000000   400211.000000   \n",
       "50%        118.000000       73.000000     7318.000000   731822.000000   \n",
       "75%        220.000000       85.000000     8511.000000   851110.000000   \n",
       "max        702.000000       97.000000     9706.000000   970600.000000   \n",
       "\n",
       "                hs9            Q1            Q2         Value  \n",
       "count  7.525178e+06  7.525178e+06  7.525178e+06  7.525178e+06  \n",
       "mean   6.454264e+08  7.362858e+04  1.509689e+05  3.685059e+04  \n",
       "std    2.550934e+08  2.173945e+07  5.190437e+06  4.266283e+05  \n",
       "min    1.100000e+01  0.000000e+00  0.000000e+00  2.010000e+02  \n",
       "25%    4.002111e+08  0.000000e+00  8.600000e+01  7.330000e+02  \n",
       "50%    7.318220e+08  0.000000e+00  6.870000e+02  2.623000e+03  \n",
       "75%    8.511100e+08  6.000000e+00  7.068000e+03  1.107300e+04  \n",
       "max    9.706000e+08  5.550000e+10  1.637796e+09  1.560166e+08  "
      ]
     },
     "execution_count": 8,
     "metadata": {},
     "output_type": "execute_result"
    }
   ],
   "source": [
    "exp_custom_latest_ym.describe()"
   ]
  },
  {
   "cell_type": "markdown",
   "metadata": {},
   "source": [
    "# Top 10 countries by Frequncy of trade"
   ]
  },
  {
   "cell_type": "code",
   "execution_count": 9,
   "metadata": {
    "collapsed": false
   },
   "outputs": [
    {
     "data": {
      "image/png": "[encoded data removed]",
      "text/plain": [
       "<matplotlib.figure.Figure at 0x22997646b38>"
      ]
     },
     "metadata": {},
     "output_type": "display_data"
    }
   ],
   "source": [
    "#This actually takes the frequency of country codes and displays the highest 10 of them\n",
    "sorted_df = exp_custom_latest_ym['Country'].value_counts()[:10]\n",
    "# test = exp_custom_latest_ym.sort_values('Value', ascending=False)\n",
    "sorted_df_index=sorted_df.index\n",
    "sorted_df_values=sorted_df.values\n",
    "sorted_df_index= country_eng[country_eng['Country'].isin(sorted_df_index)]['Country_name'].unique()\n",
    "\n",
    "\n",
    "\n",
    "fig,ax = plt.subplots(figsize=(8,6))\n",
    "sns.barplot(x = sorted_df_index,y = sorted_df_values,ax=ax,color='r')\n",
    "plt.title('Top Ten Country by Frequncy of trade')\n",
    "plt.ylabel('Counter')\n",
    "plt.xlabel('Country Name')\n",
    "ticks = plt.setp(ax.get_xticklabels(),rotation=45)"
   ]
  },
  {
   "cell_type": "markdown",
   "metadata": {},
   "source": [
    "# Top 10 countries and Value traded in 2016"
   ]
  },
  {
   "cell_type": "code",
   "execution_count": 45,
   "metadata": {
    "collapsed": false
   },
   "outputs": [],
   "source": [
    "#merge the two dataframe,ie to put the country name into the main pandas frame\n",
    "df = pd.merge(country_eng,exp_custom_latest_ym,on='Country')\n",
    "country_year_2016 = df[df['Year'] == 2016] \n",
    "\n",
    "\n",
    "country_year = country_year_2016.groupby([country_year_2016['Country']])['Value'].sum()\n",
    "#selecting the top 10 countries that did trade with Japan in Volume\n",
    "country_year = country_year.sort_values(ascending=False)[:10]\n",
    "\n",
    "#Creating a pivot table for the heat map\n",
    "table_count = pd.pivot_table(data = country_year_2016[country_year_2016['Country'].isin(country_year.index)],\n",
    "              index=['month'],columns=['Country_name'],values=['Value'],aggfunc='sum')\n"
   ]
  },
  {
   "cell_type": "code",
   "execution_count": 40,
   "metadata": {
    "collapsed": false
   },
   "outputs": [
    {
     "data": {
      "text/plain": [
       "<matplotlib.text.Text at 0x22981c9b470>"
      ]
     },
     "execution_count": 40,
     "metadata": {},
     "output_type": "execute_result"
    },
    {
     "data": {
      "image/png": "[encoded data removed]",
      "text/plain": [
       "<matplotlib.figure.Figure at 0x22981c90f98>"
      ]
     },
     "metadata": {},
     "output_type": "display_data"
    }
   ],
   "source": [
    "fig,ax = plt.subplots(figsize=(8,6))\n",
    "sns.heatmap(table_count['Value'],vmin =0 )\n",
    "plt.title('Country vs 2016-month')"
   ]
  },
  {
   "cell_type": "code",
   "execution_count": 120,
   "metadata": {
    "collapsed": true
   },
   "outputs": [],
   "source": [
    "total_trade = df.groupby([df['Country']])['Value'].sum()\n",
    "total_trade=total_trade.sort_values(ascending=False)[:10]\n",
    "dft=total_trade.to_frame()\n",
    "total_trade_value=df[df['Country'].isin(total_trade.index)]"
   ]
  },
  {
   "cell_type": "code",
   "execution_count": 142,
   "metadata": {
    "collapsed": false
   },
   "outputs": [
    {
     "data": {
      "text/plain": [
       "array(['Republic_of_Korea', \"People's_Republic_of_China\", 'Taiwan',\n",
       "       'Hong_Kong', 'Thailand', 'Malaysia', 'Indonesia', 'Germany',\n",
       "       'United_States_of_America', 'Australia'], dtype=object)"
      ]
     },
     "execution_count": 142,
     "metadata": {},
     "output_type": "execute_result"
    }
   ],
   "source": [
    "#  country_eng[country_eng.Country==total_trade.index]\n",
    "# df.Country_name[]\n",
    "# country_eng.Country_name[total_trade.index]\n",
    "#country_eng['Country_name'].where(country_eng['Country']==105)\n",
    "\n",
    "\n",
    "country_eng[country_eng['Country'].isin(total_trade.index)].Country_name.values"
   ]
  },
  {
   "cell_type": "code",
   "execution_count": 140,
   "metadata": {
    "collapsed": false
   },
   "outputs": [
    {
     "data": {
      "image/png": "[encoded data removed]",
      "text/plain": [
       "<matplotlib.figure.Figure at 0x2298d4fa7b8>"
      ]
     },
     "metadata": {},
     "output_type": "display_data"
    }
   ],
   "source": [
    "fig,ax = plt.subplots(figsize=(8,6))\n",
    "#sns.barplot(x = country_eng.Country_name[total_trade.index].values,y=total_trade.values,ax=ax,color='r')\n",
    "sns.barplot(x = country_eng[country_eng['Country'].isin(total_trade.index)].Country_name.values,y=total_trade.values,ax=ax,color='r')\n",
    "plt.title('Top Ten Country by Frequncy of trade')\n",
    "plt.ylabel('Counter')\n",
    "plt.xlabel('Country Name')\n",
    "ticks = plt.setp(ax.get_xticklabels(),rotation=45)"
   ]
  },
  {
   "cell_type": "code",
   "execution_count": 108,
   "metadata": {
    "collapsed": false
   },
   "outputs": [
    {
     "data": {
      "text/plain": [
       "Country\n",
       "105                 Panama\n",
       "304                    NaN\n",
       "103              Nicaragua\n",
       "106           Bermuda_(UK)\n",
       "111    Trinidad_and_Tobago\n",
       "601                    NaN\n",
       "213                   Fiji\n",
       "108                Jamaica\n",
       "113                  Haiti\n",
       "118     French_West_Indies\n",
       "Name: Country_name, dtype: object"
      ]
     },
     "execution_count": 108,
     "metadata": {},
     "output_type": "execute_result"
    }
   ],
   "source": [
    "country_eng.Country_name[dft.index][:]"
   ]
  },
  {
   "cell_type": "code",
   "execution_count": 115,
   "metadata": {
    "collapsed": false
   },
   "outputs": [
    {
     "data": {
      "text/plain": [
       "array([[59244704265],\n",
       "       [42716010847],\n",
       "       [15529895583],\n",
       "       [13417019391],\n",
       "       [10558686352],\n",
       "       [10133583550],\n",
       "       [ 8332721086],\n",
       "       [ 7944913970],\n",
       "       [ 6967329861],\n",
       "       [ 6709584152]], dtype=int64)"
      ]
     },
     "execution_count": 115,
     "metadata": {},
     "output_type": "execute_result"
    }
   ],
   "source": [
    "dft.values"
   ]
  },
  {
   "cell_type": "code",
   "execution_count": 94,
   "metadata": {
    "collapsed": false
   },
   "outputs": [
    {
     "data": {
      "text/plain": [
       "Country\n",
       "105                 Panama\n",
       "304                    NaN\n",
       "103              Nicaragua\n",
       "106           Bermuda_(UK)\n",
       "111    Trinidad_and_Tobago\n",
       "601                    NaN\n",
       "213                   Fiji\n",
       "108                Jamaica\n",
       "113                  Haiti\n",
       "118     French_West_Indies\n",
       "Name: Country_name, dtype: object"
      ]
     },
     "execution_count": 94,
     "metadata": {},
     "output_type": "execute_result"
    }
   ],
   "source": [
    "country_eng.Country_name[dft.index]"
   ]
  },
  {
   "cell_type": "code",
   "execution_count": 114,
   "metadata": {
    "collapsed": false
   },
   "outputs": [
    {
     "data": {
      "text/plain": [
       "array(['Panama', nan, 'Nicaragua', 'Bermuda_(UK)', 'Trinidad_and_Tobago',\n",
       "       nan, 'Fiji', 'Jamaica', 'Haiti', 'French_West_Indies'], dtype=object)"
      ]
     },
     "execution_count": 114,
     "metadata": {},
     "output_type": "execute_result"
    }
   ],
   "source": [
    "country_eng.Country_name[dft.index].values"
   ]
  },
  {
   "cell_type": "code",
   "execution_count": 116,
   "metadata": {
    "collapsed": false
   },
   "outputs": [
    {
     "data": {
      "text/plain": [
       "array([59244704265, 42716010847, 15529895583, 13417019391, 10558686352,\n",
       "       10133583550,  8332721086,  7944913970,  6967329861,  6709584152], dtype=int64)"
      ]
     },
     "execution_count": 116,
     "metadata": {},
     "output_type": "execute_result"
    }
   ],
   "source": [
    "total_trade.values"
   ]
  },
  {
   "cell_type": "code",
   "execution_count": 119,
   "metadata": {
    "collapsed": false
   },
   "outputs": [
    {
     "data": {
      "text/plain": [
       "array([59244704265, 42716010847, 15529895583, 13417019391, 10558686352,\n",
       "       10133583550,  8332721086,  7944913970,  6967329861,  6709584152], dtype=int64)"
      ]
     },
     "execution_count": 119,
     "metadata": {},
     "output_type": "execute_result"
    }
   ],
   "source": [
    "total_trade.values"
   ]
  },
  {
   "cell_type": "code",
   "execution_count": null,
   "metadata": {
    "collapsed": true
   },
   "outputs": [],
   "source": []
  }
 ],
 "metadata": {
  "anaconda-cloud": {},
  "kernelspec": {
   "display_name": "Python [conda root]",
   "language": "python",
   "name": "conda-root-py"
  }
 },
 "nbformat": 4,
 "nbformat_minor": 1
}
